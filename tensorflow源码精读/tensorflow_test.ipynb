{
 "cells": [
  {
   "cell_type": "code",
   "execution_count": 3,
   "metadata": {},
   "outputs": [
    {
     "name": "stdout",
     "output_type": "stream",
     "text": [
      "2.5.1\n",
      "['/Users/shuangzhu.kang/opt/anaconda3/lib/python3.8/site-packages/tensorflow', '/Users/shuangzhu.kang/opt/anaconda3/lib/python3.8/site-packages/tensorflow_estimator/python/estimator/api/_v2', '/Users/shuangzhu.kang/opt/anaconda3/lib/python3.8/site-packages/tensorboard/summary/_tf', '/Users/shuangzhu.kang/opt/anaconda3/lib/python3.8/site-packages/tensorflow', '/Users/shuangzhu.kang/opt/anaconda3/lib/python3.8/site-packages/tensorflow/_api/v2']\n",
      "<tensorflow.python.framework.ops.Graph object at 0x7fbe35ca11c0>\n"
     ]
    }
   ],
   "source": [
    "import tensorflow as tf\n",
    "print(tf.__version__)\n",
    "print(tf.__path__)\n",
    "print(tf.compat.v1.get_default_graph())"
   ]
  }
 ],
 "metadata": {
  "kernelspec": {
   "display_name": "base",
   "language": "python",
   "name": "python3"
  },
  "language_info": {
   "codemirror_mode": {
    "name": "ipython",
    "version": 3
   },
   "file_extension": ".py",
   "mimetype": "text/x-python",
   "name": "python",
   "nbconvert_exporter": "python",
   "pygments_lexer": "ipython3",
   "version": "3.8.5"
  },
  "orig_nbformat": 4,
  "vscode": {
   "interpreter": {
    "hash": "43fa4015a7d5a7546e65ca7aabc0498acb4b8ecfaacf4272a65fa54669c53dd5"
   }
  }
 },
 "nbformat": 4,
 "nbformat_minor": 2
}
